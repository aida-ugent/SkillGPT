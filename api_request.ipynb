{
 "cells": [
  {
   "cell_type": "code",
   "execution_count": 1,
   "id": "6cfc42fc-42a1-4198-8438-36e8978c64bf",
   "metadata": {
    "tags": []
   },
   "outputs": [],
   "source": [
    "%reload_ext autoreload\n",
    "%autoreload 2"
   ]
  },
  {
   "cell_type": "code",
   "execution_count": 2,
   "id": "4eddd22b-bc79-41af-a15e-25526e3e4829",
   "metadata": {
    "tags": []
   },
   "outputs": [],
   "source": [
    "import json\n",
    "import os\n",
    "\n",
    "import pandas as pd\n",
    "import requests\n",
    "from dotenv import load_dotenv\n",
    "from IPython.display import clear_output"
   ]
  },
  {
   "cell_type": "code",
   "execution_count": 3,
   "id": "713e49b6-25d9-4f0e-84d4-253db58db47c",
   "metadata": {
    "tags": []
   },
   "outputs": [],
   "source": [
    "load_dotenv()\n",
    "\n",
    "API_HOST = os.getenv(\"API_HOST\")\n",
    "API_PORT = os.getenv(\"API_PORT\")\n",
    "REDIS_HOST = os.getenv(\"REDIS_HOST\")\n",
    "REDIS_PORT = os.getenv(\"REDIS_PORT\")"
   ]
  },
  {
   "cell_type": "markdown",
   "id": "414e4c1e-e97c-419c-877c-50024b40da77",
   "metadata": {},
   "source": [
    "# SkillGPT API Request Demo"
   ]
  },
  {
   "cell_type": "markdown",
   "id": "92e74ff4-b640-47ed-8f1e-cd23bf8e452c",
   "metadata": {
    "tags": []
   },
   "source": [
    "## Summarize"
   ]
  },
  {
   "cell_type": "code",
   "execution_count": 4,
   "id": "e0c6e614-c93b-40b0-a25f-6e8f58ead4d4",
   "metadata": {
    "tags": []
   },
   "outputs": [],
   "source": [
    "prompt = \"\"\"\n",
    "### Human: I want you to act as a human resource expert and summarize the top five skills required by following user profile:\n",
    "----\n",
    "Working Experience\n",
    "1. Front End Developer, ABC Tech Solutions (May 2020 - July 2022)\n",
    "    * Developed and maintained user-friendly, responsive web applications using HTML, CSS, and JavaScript for a diverse clientele, resulting in a 30% increase in customer satisfaction.\n",
    "    * Collaborated closely with UX/UI designers and back-end developers to implement seamless integration of design and functionality, optimizing load times by 20%.\n",
    "2. Junior Front End Developer, XYZ Web Agency (January 2018 - April 2020)\n",
    "    * Assisted in the creation of mobile-first web designs, adhering to accessibility standards and ensuring cross-browser compatibility, which led to a 25% increase in mobile traffic.\n",
    "    * Actively participated in agile development sprints, contributing to efficient project management and improving the overall quality of deliverables.\n",
    "3. Intern, Front End Development, LMN Digital (June 2017 - December 2017)\n",
    "    * Gained hands-on experience in modern web development frameworks, including React and Angular, through the creation of interactive web components.\n",
    "    * Assisted in troubleshooting and resolving front-end issues, refining code quality, and optimizing website performance.\n",
    "----\n",
    "### Assistant:          \n",
    "\"\"\""
   ]
  },
  {
   "cell_type": "code",
   "execution_count": 5,
   "id": "e4d067b4-73d3-4444-92c9-e38167b0edf0",
   "metadata": {
    "tags": []
   },
   "outputs": [
    {
     "name": "stdout",
     "output_type": "stream",
     "text": [
      " Assistant:          \n",
      "1. Proficiency in Front-End Development Tools: HTML, CSS, and JavaScript\n",
      "2. Experience with User Experience (UX) and User Interface (UI) Design\n",
      "3. Collaboration and Communication Skills\n",
      "4. Knowledge of Development Frameworks (e.g. React, Angular)\n",
      "5. Familiarity with Agile Development Methodologies\n"
     ]
    }
   ],
   "source": [
    "sep = \"###\"\n",
    "worker_addr = f\"http://{API_HOST}:{API_PORT}\"\n",
    "headers = {\"User-Agent\": \"SkillGPT Client\"}\n",
    "pload = {\n",
    "    \"model\": \"vicuna-13b\",\n",
    "    \"prompt\": prompt,\n",
    "    \"max_new_tokens\": 500,\n",
    "    \"temperature\": 0.7,\n",
    "    \"stop\": sep,\n",
    "}\n",
    "response = requests.post(worker_addr + \"/generate_stream\", headers=headers,\n",
    "        json=pload, stream=True)\n",
    "\n",
    "for chunk in response.iter_lines(chunk_size=8192, decode_unicode=False, delimiter=b\"\\0\"):\n",
    "    if chunk:\n",
    "        data = json.loads(chunk.decode(\"utf-8\"))\n",
    "        output = data[\"text\"].split(sep)[-1]\n",
    "        clear_output(wait=True)\n",
    "        print(f\"\\r{output}\", end=\"\")"
   ]
  },
  {
   "cell_type": "markdown",
   "id": "8b49100d-15c8-402a-aab4-b74c049392ab",
   "metadata": {},
   "source": [
    "## Label text"
   ]
  },
  {
   "cell_type": "code",
   "execution_count": 6,
   "id": "12f6c410-4549-4ebf-ba3d-2953e16d9a79",
   "metadata": {
    "tags": []
   },
   "outputs": [],
   "source": [
    "def format_esco_concepts(esco_concepts, esco_index):\n",
    "    df_res = pd.DataFrame.from_records([json.loads(concept_str) for concept_str in esco_concepts])\n",
    "    df_res[\"rank\"] = range(1, 1+len(df_res))\n",
    "    return df_res[esco_fields[esco_index]]\n",
    "\n",
    "esco_fields = { \n",
    "    \"occupations\": [\"rank\", \"preferredLabel\", \"conceptType\", \"code\", \"altLabels\", \"description\", \"conceptUri\"],\n",
    "    \"skillGroups\": [\"rank\", \"preferredLabel\", \"conceptType\", \"code\", \"altLabels\", \"description\", \"conceptUri\"],\n",
    "    \"skills\": [\"rank\", \"preferredLabel\", \"conceptType\", \"skillType\", \"altLabels\", \"description\", \"conceptUri\"]\n",
    "}"
   ]
  },
  {
   "cell_type": "code",
   "execution_count": 11,
   "id": "36b24c25-1d99-45ec-b11f-81b711647527",
   "metadata": {
    "tags": []
   },
   "outputs": [
    {
     "data": {
      "text/html": [
       "<div>\n",
       "<style scoped>\n",
       "    .dataframe tbody tr th:only-of-type {\n",
       "        vertical-align: middle;\n",
       "    }\n",
       "\n",
       "    .dataframe tbody tr th {\n",
       "        vertical-align: top;\n",
       "    }\n",
       "\n",
       "    .dataframe thead th {\n",
       "        text-align: right;\n",
       "    }\n",
       "</style>\n",
       "<table border=\"1\" class=\"dataframe\">\n",
       "  <thead>\n",
       "    <tr style=\"text-align: right;\">\n",
       "      <th></th>\n",
       "      <th>rank</th>\n",
       "      <th>preferredLabel</th>\n",
       "      <th>conceptType</th>\n",
       "      <th>code</th>\n",
       "      <th>altLabels</th>\n",
       "      <th>description</th>\n",
       "      <th>conceptUri</th>\n",
       "    </tr>\n",
       "  </thead>\n",
       "  <tbody>\n",
       "    <tr>\n",
       "      <th>0</th>\n",
       "      <td>1</td>\n",
       "      <td>user interface developer</td>\n",
       "      <td>Occupation</td>\n",
       "      <td>2512.5</td>\n",
       "      <td>user interface developers\\nUI developers\\nfron...</td>\n",
       "      <td>User interface developers implement, code, doc...</td>\n",
       "      <td>http://data.europa.eu/esco/occupation/866c7813...</td>\n",
       "    </tr>\n",
       "    <tr>\n",
       "      <th>1</th>\n",
       "      <td>2</td>\n",
       "      <td>user interface designer</td>\n",
       "      <td>Occupation</td>\n",
       "      <td>2513.3</td>\n",
       "      <td>user interface designer\\nUI designer\\naccessib...</td>\n",
       "      <td>User interface designers are in charge of desi...</td>\n",
       "      <td>http://data.europa.eu/esco/occupation/96e20037...</td>\n",
       "    </tr>\n",
       "    <tr>\n",
       "      <th>2</th>\n",
       "      <td>3</td>\n",
       "      <td>user interface developer</td>\n",
       "      <td>Occupation</td>\n",
       "      <td>2512.5</td>\n",
       "      <td>user interface designer\\nUI designer\\ninteract...</td>\n",
       "      <td>User interface developers implementeren, coder...</td>\n",
       "      <td>http://data.europa.eu/esco/occupation/866c7813...</td>\n",
       "    </tr>\n",
       "    <tr>\n",
       "      <th>3</th>\n",
       "      <td>4</td>\n",
       "      <td>web developer</td>\n",
       "      <td>Occupation</td>\n",
       "      <td>2513.5</td>\n",
       "      <td>web developers\\nweb engineer\\nweb application ...</td>\n",
       "      <td>Web developers develop, implement and document...</td>\n",
       "      <td>http://data.europa.eu/esco/occupation/c40a2919...</td>\n",
       "    </tr>\n",
       "    <tr>\n",
       "      <th>4</th>\n",
       "      <td>5</td>\n",
       "      <td>ICT application developer</td>\n",
       "      <td>Occupation</td>\n",
       "      <td>2514.2</td>\n",
       "      <td>application software developers\\nICT applicati...</td>\n",
       "      <td>ICT application developers implement the ICT (...</td>\n",
       "      <td>http://data.europa.eu/esco/occupation/bd272aee...</td>\n",
       "    </tr>\n",
       "    <tr>\n",
       "      <th>5</th>\n",
       "      <td>6</td>\n",
       "      <td>blockchain developer</td>\n",
       "      <td>Occupation</td>\n",
       "      <td>2512.4.1</td>\n",
       "      <td>decentralized ledger technology specialist\\nDL...</td>\n",
       "      <td>Blockchain developers implement or program blo...</td>\n",
       "      <td>http://data.europa.eu/esco/occupation/24135b84...</td>\n",
       "    </tr>\n",
       "    <tr>\n",
       "      <th>6</th>\n",
       "      <td>7</td>\n",
       "      <td>database developer</td>\n",
       "      <td>Occupation</td>\n",
       "      <td>2521.3</td>\n",
       "      <td>database programmer\\ndatabase development engi...</td>\n",
       "      <td>Database developers program, implement and coo...</td>\n",
       "      <td>http://data.europa.eu/esco/occupation/b11e1742...</td>\n",
       "    </tr>\n",
       "    <tr>\n",
       "      <th>7</th>\n",
       "      <td>8</td>\n",
       "      <td>mobile application developer</td>\n",
       "      <td>Occupation</td>\n",
       "      <td>2514.2.2</td>\n",
       "      <td>app coder\\napp programmer\\ncell phone app deve...</td>\n",
       "      <td>Mobile application developers implement applic...</td>\n",
       "      <td>http://data.europa.eu/esco/occupation/2ed56c3f...</td>\n",
       "    </tr>\n",
       "    <tr>\n",
       "      <th>8</th>\n",
       "      <td>9</td>\n",
       "      <td>3D modeller</td>\n",
       "      <td>Occupation</td>\n",
       "      <td>2166.1</td>\n",
       "      <td>3D modellers\\n3D texturing artist\\n3D modeler\\...</td>\n",
       "      <td>3D modellers design 3D models of objects, virt...</td>\n",
       "      <td>http://data.europa.eu/esco/occupation/bab5fa79...</td>\n",
       "    </tr>\n",
       "    <tr>\n",
       "      <th>9</th>\n",
       "      <td>10</td>\n",
       "      <td>software developer</td>\n",
       "      <td>Occupation</td>\n",
       "      <td>2512.4</td>\n",
       "      <td>software specialist\\nsoftware developers\\nprog...</td>\n",
       "      <td>Software developers implement or program all k...</td>\n",
       "      <td>http://data.europa.eu/esco/occupation/f2b15a0e...</td>\n",
       "    </tr>\n",
       "  </tbody>\n",
       "</table>\n",
       "</div>"
      ],
      "text/plain": [
       "   rank                preferredLabel conceptType      code   \n",
       "0     1      user interface developer  Occupation    2512.5  \\\n",
       "1     2       user interface designer  Occupation    2513.3   \n",
       "2     3      user interface developer  Occupation    2512.5   \n",
       "3     4                 web developer  Occupation    2513.5   \n",
       "4     5     ICT application developer  Occupation    2514.2   \n",
       "5     6          blockchain developer  Occupation  2512.4.1   \n",
       "6     7            database developer  Occupation    2521.3   \n",
       "7     8  mobile application developer  Occupation  2514.2.2   \n",
       "8     9                   3D modeller  Occupation    2166.1   \n",
       "9    10            software developer  Occupation    2512.4   \n",
       "\n",
       "                                           altLabels   \n",
       "0  user interface developers\\nUI developers\\nfron...  \\\n",
       "1  user interface designer\\nUI designer\\naccessib...   \n",
       "2  user interface designer\\nUI designer\\ninteract...   \n",
       "3  web developers\\nweb engineer\\nweb application ...   \n",
       "4  application software developers\\nICT applicati...   \n",
       "5  decentralized ledger technology specialist\\nDL...   \n",
       "6  database programmer\\ndatabase development engi...   \n",
       "7  app coder\\napp programmer\\ncell phone app deve...   \n",
       "8  3D modellers\\n3D texturing artist\\n3D modeler\\...   \n",
       "9  software specialist\\nsoftware developers\\nprog...   \n",
       "\n",
       "                                         description   \n",
       "0  User interface developers implement, code, doc...  \\\n",
       "1  User interface designers are in charge of desi...   \n",
       "2  User interface developers implementeren, coder...   \n",
       "3  Web developers develop, implement and document...   \n",
       "4  ICT application developers implement the ICT (...   \n",
       "5  Blockchain developers implement or program blo...   \n",
       "6  Database developers program, implement and coo...   \n",
       "7  Mobile application developers implement applic...   \n",
       "8  3D modellers design 3D models of objects, virt...   \n",
       "9  Software developers implement or program all k...   \n",
       "\n",
       "                                          conceptUri  \n",
       "0  http://data.europa.eu/esco/occupation/866c7813...  \n",
       "1  http://data.europa.eu/esco/occupation/96e20037...  \n",
       "2  http://data.europa.eu/esco/occupation/866c7813...  \n",
       "3  http://data.europa.eu/esco/occupation/c40a2919...  \n",
       "4  http://data.europa.eu/esco/occupation/bd272aee...  \n",
       "5  http://data.europa.eu/esco/occupation/24135b84...  \n",
       "6  http://data.europa.eu/esco/occupation/b11e1742...  \n",
       "7  http://data.europa.eu/esco/occupation/2ed56c3f...  \n",
       "8  http://data.europa.eu/esco/occupation/bab5fa79...  \n",
       "9  http://data.europa.eu/esco/occupation/f2b15a0e...  "
      ]
     },
     "execution_count": 11,
     "metadata": {},
     "output_type": "execute_result"
    }
   ],
   "source": [
    "prompt = \"\"\"\n",
    "1. Proficiency in Front-End Development Tools: HTML, CSS, and JavaScript\n",
    "2. Experience with User Experience (UX) and User Interface (UI) Design\n",
    "3. Collaboration and Communication Skills\n",
    "4. Knowledge of Development Frameworks (e.g. React, Angular)\n",
    "5. Familiarity with Agile Development Methodologies\n",
    "\"\"\"\n",
    "esco_index = \"occupations\"\n",
    "sep = \"###\"\n",
    "worker_addr = f\"http://{API_HOST}:{API_PORT}\"\n",
    "headers = {\"User-Agent\": \"SkillGPT Client\"}\n",
    "pload = {\n",
    "    \"model\": \"vicuna-13b\",\n",
    "    \"prompt\": prompt,\n",
    "    \"esco_index\": esco_index,\n",
    "    \"redis_host\": REDIS_HOST,\n",
    "    \"num_relevant\": 10,\n",
    "}\n",
    "response = requests.post(worker_addr + \"/label_text\", headers=headers,\n",
    "        json=pload, stream=False)\n",
    "\n",
    "format_esco_concepts(json.loads(response.content)[\"labels\"], esco_index)"
   ]
  },
  {
   "cell_type": "markdown",
   "id": "9a5f10d2-f197-473f-aee1-b8d5d80befb9",
   "metadata": {},
   "source": [
    "# Initialize ESCO embeddings\n",
    "\n",
    "#### Note: this will wipe the entire redis and ingest new embeddings"
   ]
  },
  {
   "cell_type": "code",
   "execution_count": null,
   "id": "881e7c1a-4c06-418c-8353-943e80dc8fd2",
   "metadata": {},
   "outputs": [],
   "source": [
    "worker_addr = f\"http://{REDIS_HOST}:{REDIS_PORT}\"\n",
    "headers = {\"User-Agent\": \"SkillGpt Client\"}\n",
    "pload = {\n",
    "    \"model\": \"vicuna-13b\",\n",
    "    \"redis_host\": REDIS_HOST,\n",
    "}\n",
    "response = requests.post(worker_addr + \"/init_esco_embedding\", headers=headers,\n",
    "        json=pload)\n",
    "\n",
    "print(response.content)"
   ]
  }
 ],
 "metadata": {
  "kernelspec": {
   "display_name": "vicuna",
   "language": "python",
   "name": "vicuna"
  },
  "language_info": {
   "codemirror_mode": {
    "name": "ipython",
    "version": 3
   },
   "file_extension": ".py",
   "mimetype": "text/x-python",
   "name": "python",
   "nbconvert_exporter": "python",
   "pygments_lexer": "ipython3",
   "version": "3.9.16"
  }
 },
 "nbformat": 4,
 "nbformat_minor": 5
}
